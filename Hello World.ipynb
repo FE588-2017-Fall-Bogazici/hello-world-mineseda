{
 "cells": [
  {
   "cell_type": "code",
   "execution_count": 2,
   "metadata": {},
   "outputs": [
    {
     "name": "stdout",
     "output_type": "stream",
     "text": [
      "MINE SEDA CENKAYOGLU\n"
     ]
    }
   ],
   "source": [
    "print(\"MINE SEDA CENKAYOGLU\")"
   ]
  },
  {
   "cell_type": "code",
   "execution_count": 14,
   "metadata": {
    "scrolled": false
   },
   "outputs": [
    {
     "name": "stdout",
     "output_type": "stream",
     "text": [
      "('0.10', '-3.690')\n",
      "('0.20', '-3.360')\n",
      "('0.30', '-3.010')\n",
      "('0.40', '-2.640')\n",
      "('0.50', '-2.250')\n",
      "('0.60', '-1.840')\n",
      "('0.70', '-1.410')\n",
      "('0.80', '-0.960')\n",
      "('0.90', '-0.490')\n",
      "('1.00', '-0.000')\n"
     ]
    }
   ],
   "source": [
    "x = 0\n",
    "\n",
    "for i in range (10):\n",
    "    x += 0.1\n",
    "    f = x**2 + 3*x -4\n",
    "    print (\"%3.2f\" % x, \"%1.3f\"% f)"
   ]
  }
 ],
 "metadata": {
  "kernelspec": {
   "display_name": "Python 2",
   "language": "python",
   "name": "python2"
  },
  "language_info": {
   "codemirror_mode": {
    "name": "ipython",
    "version": 2
   },
   "file_extension": ".py",
   "mimetype": "text/x-python",
   "name": "python",
   "nbconvert_exporter": "python",
   "pygments_lexer": "ipython2",
   "version": "2.7.13"
  }
 },
 "nbformat": 4,
 "nbformat_minor": 2
}
